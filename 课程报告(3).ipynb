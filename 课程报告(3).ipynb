{
 "cells": [
  {
   "cell_type": "markdown",
   "id": "a97c94c5",
   "metadata": {},
   "source": [
    "# 《金融分析软件与应用》课程报告\n",
    "\n",
    "**序号:** &emsp;&emsp;&emsp;&emsp;&emsp; \n",
    "**姓名:** &emsp;&emsp;&emsp;&emsp;&emsp; \n",
    "**学号:** &emsp;&emsp;&emsp;&emsp;&emsp; \n",
    "**班级:** &emsp;&emsp;&emsp;&emsp;&emsp; "
   ]
  },
  {
   "cell_type": "markdown",
   "id": "50c0518f",
   "metadata": {},
   "source": [
    "## 题目：\n"
   ]
  },
  {
   "cell_type": "markdown",
   "id": "086fa09a",
   "metadata": {},
   "source": [
    "经济金融类相关问题均可，但必须包含实证分析，纯理论分析、模型推导等类型选题不符合本课程要求。\n",
    "\n",
    "**报告提交方式：**\n",
    "- 电子版报告：\n",
    "    * Jupyter Notebook格式，随附数据等支撑性文档；\n",
    "    * 所有文档装到一个文件夹内，文件夹命名“序号-姓名”；\n",
    "    * 将文件夹打包为同名压缩包，发送到我的微信或邮箱（zth@ouc.edu.cn）;\n",
    "- 纸质版报告：A4纸打印交到经济楼310。\n",
    "\n",
    "**报告提交时间：**\n",
    "1. 即日起至11月15日17:00提交，综合成绩+5分；\n",
    "2. 截止日期：11月30日17:00，之后提交的无报告分数。\n",
    "3. 上述时间以电子版发送时间为准。\n",
    "\n",
    "**课程报告需完整，包括但不限于以下部分：**\n",
    " - 一、引言（问题的提出）\n",
    " - 二、数据选取\n",
    " - 三、实证分析\n",
    " - 四、结论\n",
    " - 五、参考文献"
   ]
  },
  {
   "cell_type": "markdown",
   "id": "71aa74bc",
   "metadata": {},
   "source": [
    "### 一、引言（问题的提出）\n"
   ]
  },
  {
   "cell_type": "markdown",
   "id": "91e35d7f",
   "metadata": {},
   "source": [
    "**import packages**\n",
    "- 报告用到的所有程序包请在本部分引入；\n",
    "- 如包含非Anaconda自带包，需要单独说明，并附带pip/conda安装语句。\n"
   ]
  },
  {
   "cell_type": "markdown",
   "id": "b31a47a9",
   "metadata": {},
   "source": [
    "### 二、数据选取\n"
   ]
  },
  {
   "cell_type": "markdown",
   "id": "3433a55a",
   "metadata": {},
   "source": [
    "**所有数据均采用相对引用路径，例如：**\n",
    "\n",
    "```data = pd.read_csv('tr_eikon_eod_data.csv')  ```\n",
    "\n",
    "**严禁采用绝对引用路径，例如：**\n",
    "\n",
    "```data = pd.read_csv('C:/Users/ABC/tr_eikon_eod_data.csv')  ```\n"
   ]
  },
  {
   "cell_type": "markdown",
   "id": "c5aec917",
   "metadata": {},
   "source": [
    "### 三、实证分析"
   ]
  },
  {
   "cell_type": "markdown",
   "id": "160c3c4d",
   "metadata": {},
   "source": [
    "* 编程语言需基于Python、R、Stata；\n",
    "* 实证方法需进行简要概述，附公式等；\n",
    "* 程序输出结果要整理成Markdown表格等格式，且紧跟必要的文字分析。\n"
   ]
  },
  {
   "cell_type": "markdown",
   "id": "f657de29",
   "metadata": {},
   "source": [
    "### 四、结论\n"
   ]
  },
  {
   "cell_type": "markdown",
   "id": "ce8094ab",
   "metadata": {},
   "source": [
    "**报告评分细则：**\n",
    "1. 报告完整性（10分）：报告形式符合要求，结构完整。\n",
    "2. 实证部分（30分）：\n",
    "     - 报告代码可成功运行并输出正确结果；(15分)\n",
    "     - 输出结果需整理成论文常见格式并进行文字分析，分析准确翔实。(15分)\n",
    "3. 报告内容需为原创，如有抄袭、剽窃等学术不端行为，本门成绩判定为0分。\n"
   ]
  },
  {
   "cell_type": "markdown",
   "id": "0ecb9180",
   "metadata": {},
   "source": [
    "### 参考文献\n",
    "\n",
    "**output style \"Journal of Finance (J Finance)\"**"
   ]
  },
  {
   "cell_type": "markdown",
   "id": "c15b8ba8",
   "metadata": {},
   "source": [
    "Baldauf, Markus, and Joshua Mollner, 2020, High‐frequency trading and market performance, Journal of Finance 75, 1495-1526.\n",
    "\n",
    "Choi, James J., and Adriana Z. Robertson, 2020, What matters to individual investors? Evidence from the horse's mouth, Journal of Finance 75, 1965-2020.\n",
    "\n",
    "Di Maggio, Marco, Amir Kermani, and Kaveh Majlesi, 2020, Stock market returns and consumption, Journal of Finance 75, 3175-3219.\n",
    "\n",
    "Lochstoer, Lars A., and Paul C. Tetlock, 2020, What drives anomaly returns?, Journal of Finance 75, 1417-1455.\n",
    "\n",
    "Pettenuzzo, Davide, Riccardo Sabbatucci, and Allan Timmermann, 2020, Cash flow news and stock price dynamics, Journal of Finance 75, 2221-2270.\n",
    "\n"
   ]
  },
  {
   "cell_type": "markdown",
   "id": "9bff42ae",
   "metadata": {},
   "source": [
    "### ~~报告自评~~\n",
    "\n",
    "- 本部分仅包含在电子版中，纸质版打印时删除；\n",
    "- 200~300字，参照评分细则进行自我评价。\n",
    "\n",
    "范例：\n",
    "> 该学生的选题具有较强的现实针对性与实用性，报告内容完整，结构安排科学合理，思路清晰，层次分明，格式规范。各部分之间的联系比较紧密，观点的表述清晰准确，论证内容比较有说服力。在实证过程中基于十大产业振兴规划，运用双重差分模型（DID）来检验产业政策和企业全要素生产率之间的关系，有效的缓解了内生性对模型的影响，此外运用“投资-投资机会”模型来进行机制分析，探索产业政策对企业全要素生产率的影响路径。"
   ]
  }
 ],
 "metadata": {
  "kernelspec": {
   "display_name": "Python 3 (ipykernel)",
   "language": "python",
   "name": "python3"
  },
  "language_info": {
   "codemirror_mode": {
    "name": "ipython",
    "version": 3
   },
   "file_extension": ".py",
   "mimetype": "text/x-python",
   "name": "python",
   "nbconvert_exporter": "python",
   "pygments_lexer": "ipython3",
   "version": "3.9.12"
  },
  "toc": {
   "base_numbering": 1,
   "nav_menu": {},
   "number_sections": true,
   "sideBar": true,
   "skip_h1_title": false,
   "title_cell": "Table of Contents",
   "title_sidebar": "Contents",
   "toc_cell": false,
   "toc_position": {},
   "toc_section_display": true,
   "toc_window_display": true
  }
 },
 "nbformat": 4,
 "nbformat_minor": 5
}
